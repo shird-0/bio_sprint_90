{
 "cells": [
  {
   "cell_type": "code",
   "id": "initial_id",
   "metadata": {
    "collapsed": true,
    "ExecuteTime": {
     "end_time": "2025-07-08T01:20:50.984249Z",
     "start_time": "2025-07-08T01:20:50.939672Z"
    }
   },
   "source": [
    "import pandas as pd\n",
    "import pyarrow"
   ],
   "outputs": [],
   "execution_count": 24
  },
  {
   "metadata": {
    "ExecuteTime": {
     "end_time": "2025-07-07T22:54:42.572081Z",
     "start_time": "2025-07-07T22:54:42.558532Z"
    }
   },
   "cell_type": "code",
   "source": "vcf_path = 'C:/Users/sirok/Documents/Projects_BIO/bio_sprint_90/data/raw/clinvar.vcf.gz'",
   "id": "bbf2526d98f53612",
   "outputs": [],
   "execution_count": 3
  },
  {
   "metadata": {
    "ExecuteTime": {
     "end_time": "2025-07-07T23:01:42.236498Z",
     "start_time": "2025-07-07T23:01:22.361386Z"
    }
   },
   "cell_type": "code",
   "source": [
    "col_names = ['CHROM', 'POS', 'ID', 'REF', 'ALT', 'QUAL', 'FILTER', 'INFO']\n",
    "\n",
    "df = pd.read_csv(vcf_path, sep='\\t', comment='#',names=col_names, low_memory=False)"
   ],
   "id": "96c63351c17d914b",
   "outputs": [],
   "execution_count": 6
  },
  {
   "metadata": {
    "ExecuteTime": {
     "end_time": "2025-07-07T23:02:01.535985Z",
     "start_time": "2025-07-07T23:02:01.522612Z"
    }
   },
   "cell_type": "code",
   "source": "print(df.head())",
   "id": "b050afa987a21131",
   "outputs": [
    {
     "name": "stdout",
     "output_type": "stream",
     "text": [
      "  CHROM    POS       ID REF ALT QUAL FILTER  \\\n",
      "0     1  66926  3385321  AG   A    .      .   \n",
      "1     1  69134  2205837   A   G    .      .   \n",
      "2     1  69314  3205580   T   G    .      .   \n",
      "3     1  69423  3205581   G   A    .      .   \n",
      "4     1  69581  2252161   C   G    .      .   \n",
      "\n",
      "                                                INFO  \n",
      "0  ALLELEID=3544463;CLNDISDB=Human_Phenotype_Onto...  \n",
      "1  ALLELEID=2193183;CLNDISDB=MedGen:CN169374;CLND...  \n",
      "2  ALLELEID=3374047;CLNDISDB=MedGen:CN169374;CLND...  \n",
      "3  ALLELEID=3374048;CLNDISDB=MedGen:CN169374;CLND...  \n",
      "4  ALLELEID=2238986;CLNDISDB=MedGen:CN169374;CLND...  \n"
     ]
    }
   ],
   "execution_count": 7
  },
  {
   "metadata": {
    "ExecuteTime": {
     "end_time": "2025-07-07T23:19:54.348965Z",
     "start_time": "2025-07-07T23:19:49.386631Z"
    }
   },
   "cell_type": "code",
   "source": [
    "df['CLNSIG'] = df['INFO'].str.extract(r'CLNSIG=([^;]+)')\n",
    "print(df['CLNSIG'].value_counts())"
   ],
   "id": "fbe23be6f7869440",
   "outputs": [
    {
     "name": "stdout",
     "output_type": "stream",
     "text": [
      "CLNSIG\n",
      "Uncertain_significance                                     1787640\n",
      "Likely_benign                                               985609\n",
      "Benign                                                      209764\n",
      "Pathogenic                                                  171491\n",
      "Conflicting_classifications_of_pathogenicity                145845\n",
      "                                                            ...   \n",
      "Likely_pathogenic|other                                          1\n",
      "other|risk_factor                                                1\n",
      "Pathogenic/Pathogenic,_low_penetrance|other|risk_factor          1\n",
      "Likely_benign|Affects|association                                1\n",
      "confers_sensitivity|other                                        1\n",
      "Name: count, Length: 89, dtype: int64\n"
     ]
    }
   ],
   "execution_count": 10
  },
  {
   "metadata": {
    "ExecuteTime": {
     "end_time": "2025-07-08T01:02:13.173891Z",
     "start_time": "2025-07-08T01:02:13.169614Z"
    }
   },
   "cell_type": "code",
   "source": "df['CLNSIG'].shape",
   "id": "43ec71a554f3d2b9",
   "outputs": [
    {
     "data": {
      "text/plain": [
       "(3512114,)"
      ]
     },
     "execution_count": 20,
     "metadata": {},
     "output_type": "execute_result"
    }
   ],
   "execution_count": 20
  },
  {
   "metadata": {
    "ExecuteTime": {
     "end_time": "2025-07-07T23:53:37.558747Z",
     "start_time": "2025-07-07T23:53:37.268003Z"
    }
   },
   "cell_type": "code",
   "source": [
    "clean_labels=['Pathogenic', 'Benign']\n",
    "df_clean=df[df['CLNSIG'].isin(clean_labels)].copy()\n"
   ],
   "id": "1d6bc5cb3bea0f95",
   "outputs": [],
   "execution_count": 11
  },
  {
   "metadata": {
    "ExecuteTime": {
     "end_time": "2025-07-07T23:53:40.649746Z",
     "start_time": "2025-07-07T23:53:40.587344Z"
    }
   },
   "cell_type": "code",
   "source": "df_clean['Target'] = (df_clean['CLNSIG'] == 'Pathogenic').astype(int)",
   "id": "9654cb80ea5edb8d",
   "outputs": [],
   "execution_count": 12
  },
  {
   "metadata": {
    "ExecuteTime": {
     "end_time": "2025-07-08T00:59:31.880864Z",
     "start_time": "2025-07-08T00:59:31.825768Z"
    }
   },
   "cell_type": "code",
   "source": [
    "print(\"A size of dataframe after cleaning:\")\n",
    "print(df_clean.shape)\n",
    "\n",
    "print(\"\\nClass distribution in cleaned dataframe:\")\n",
    "print(df_clean['CLNSIG'].value_counts())\n",
    "\n",
    "print(\"\\nTarget variable in cleaned dataframe:\")\n",
    "print(df_clean['Target'].value_counts())\n",
    "\n",
    "print(\"\\nFirst 5 strings of cleaned dataframe with new column Target:\")\n",
    "print(df_clean['Target'].head())"
   ],
   "id": "1e58e65e0fee9816",
   "outputs": [
    {
     "name": "stdout",
     "output_type": "stream",
     "text": [
      "A size of dataframe after cleaning:\n",
      "(381255, 10)\n",
      "\n",
      "Class distribution in cleaned dataframe:\n",
      "CLNSIG\n",
      "Benign        209764\n",
      "Pathogenic    171491\n",
      "Name: count, dtype: int64\n",
      "\n",
      "Target variable in cleaned dataframe:\n",
      "Target\n",
      "0    209764\n",
      "1    171491\n",
      "Name: count, dtype: int64\n",
      "\n",
      "First 5 strings of cleaned dataframe with new column Target:\n",
      "9     0\n",
      "35    0\n",
      "47    0\n",
      "79    0\n",
      "84    0\n",
      "Name: Target, dtype: int32\n"
     ]
    }
   ],
   "execution_count": 16
  },
  {
   "metadata": {
    "ExecuteTime": {
     "end_time": "2025-07-08T01:35:36.301637Z",
     "start_time": "2025-07-08T01:35:35.591444Z"
    }
   },
   "cell_type": "code",
   "source": [
    "output_path = 'C:/Users/sirok/Documents/Projects_BIO/bio_sprint_90/data/processed/clinvar_cleaned.parquet'\n",
    "\n",
    "df_clean.to_parquet(output_path, index=False)\n",
    "\n",
    "print(f\"Cleaned dataframe saved in: {output_path}\")"
   ],
   "id": "9c05b7c8158b0d12",
   "outputs": [
    {
     "name": "stdout",
     "output_type": "stream",
     "text": [
      "Cleaned dataframe saved in: C:/Users/sirok/Documents/Projects_BIO/bio_sprint_90/data/processed/clinvar_cleaned.parquet\n"
     ]
    }
   ],
   "execution_count": 29
  },
  {
   "metadata": {},
   "cell_type": "code",
   "outputs": [],
   "execution_count": null,
   "source": "",
   "id": "27989667d1cedea3"
  }
 ],
 "metadata": {
  "kernelspec": {
   "display_name": "Python 3",
   "language": "python",
   "name": "python3"
  },
  "language_info": {
   "codemirror_mode": {
    "name": "ipython",
    "version": 2
   },
   "file_extension": ".py",
   "mimetype": "text/x-python",
   "name": "python",
   "nbconvert_exporter": "python",
   "pygments_lexer": "ipython2",
   "version": "2.7.6"
  }
 },
 "nbformat": 4,
 "nbformat_minor": 5
}
